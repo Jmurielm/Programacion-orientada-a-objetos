{
  "nbformat": 4,
  "nbformat_minor": 0,
  "metadata": {
    "colab": {
      "provenance": []
    },
    "kernelspec": {
      "name": "python3",
      "display_name": "Python 3"
    },
    "language_info": {
      "name": "python"
    }
  },
  "cells": [
    {
      "cell_type": "code",
      "execution_count": null,
      "metadata": {
        "colab": {
          "base_uri": "https://localhost:8080/"
        },
        "id": "ilEwCLsbD1Pg",
        "outputId": "f3acd241-63c1-41ff-a3f7-e471e24875ce"
      },
      "outputs": [
        {
          "output_type": "stream",
          "name": "stdout",
          "text": [
            "Nombres del titular: Pedro\n",
            "Apellidos del titular: Pérez\n",
            "Número de cuenta: 123456789\n",
            "Tipo de cuenta: AHORROS\n",
            "Saldo:0\n",
            "Se ha consignado $200000 en la cuenta. El nuevo saldo es $200000\n",
            "Se ha consignado $300000 en la cuenta. El nuevo saldo es $500000\n",
            "Se ha retirado $400000 en la cuenta. El nuevo saldo es $100000\n"
          ]
        }
      ],
      "source": [
        "from enum import Enum\n",
        "\n",
        "class TipoCuenta(Enum):\n",
        "  AHORROS= \"AHORROS\"\n",
        "  CORRIENTE=\"CORRIENTE\"\n",
        "\n",
        "class CuentaBancaria:\n",
        "  def __init__(self,nombres_titular,apellidos_titular, numero_cuenta, tipo_cuenta):\n",
        "    self.nombres_titular = nombres_titular\n",
        "    self.apellidos_titular = apellidos_titular\n",
        "    self.numero_cuenta = numero_cuenta\n",
        "    self.tipo_cuenta = tipo_cuenta\n",
        "    self.saldo = 0\n",
        "\n",
        "  def imprimir(self):\n",
        "    print(f\"Nombres del titular: {self.nombres_titular}\")\n",
        "    print(f\"Apellidos del titular: {self.apellidos_titular}\")\n",
        "    print(f\"Número de cuenta: {self.numero_cuenta}\")\n",
        "    print(f\"Tipo de cuenta: {self.tipo_cuenta.value}\")\n",
        "    print(f\"Saldo:{self.saldo}\")\n",
        "\n",
        "  def consultar_saldo(self):\n",
        "    print(f\"El saldo actual es: {self.saldo}\")\n",
        "\n",
        "  def consignar(self,valor):\n",
        "    if valor>0:\n",
        "      self.saldo += valor\n",
        "      print(f\"Se ha consignado ${valor} en la cuenta. El nuevo saldo es ${self.saldo}\")\n",
        "      return True\n",
        "    else:\n",
        "      print(\"El valor a consignar debe ser mayor que cero.\")\n",
        "      return False\n",
        "\n",
        "  def  retirar(self,valor):\n",
        "    if valor>0 and valor<=self.saldo:\n",
        "      self.saldo -= valor\n",
        "      print(f\"Se ha retirado ${valor} en la cuenta. El nuevo saldo es ${self.saldo}\")\n",
        "      return True\n",
        "    else:\n",
        "      print(\"El valor a retirar debe ser menor que el saldo actual.\")\n",
        "      return False\n",
        "\n",
        "\n",
        "if __name__ == \"__main__\":\n",
        "  cuenta = CuentaBancaria(\"Pedro\", \"Pérez\", \"123456789\", TipoCuenta.AHORROS)\n",
        "  cuenta.imprimir()\n",
        "  cuenta.consignar(200000)\n",
        "  cuenta.consignar(300000)\n",
        "  cuenta.retirar(400000)\n",
        "\n",
        "\n"
      ]
    }
  ]
}
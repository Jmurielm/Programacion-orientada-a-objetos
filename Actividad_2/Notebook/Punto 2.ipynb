{
 "cells": [
  {
   "cell_type": "markdown",
   "id": "c2ff0a9e",
   "metadata": {},
   "source": [
    "### Punto 2: Ejercicio 2.2 página 66 "
   ]
  },
  {
   "cell_type": "code",
   "execution_count": null,
   "id": "f82f680e",
   "metadata": {},
   "outputs": [
    {
     "name": "stdout",
     "output_type": "stream",
     "text": [
      "Nombre del planeta = Tierra\n",
      "Cantidad de satélites = 1\n",
      "Masa del planeta = 5.9736e+24\n",
      "Volúmen del planeta = 1083210000000.0\n",
      "Diámetro del planeta = 12742\n",
      "Distancia al sol = 150000000\n",
      "Tipo de planeta = TERRESTRE\n",
      "Es observable = True\n",
      "Densidad del planeta = 5514720137369.484\n",
      "Es planeta exterior = False\n",
      "\n",
      "Nombre del planeta = Júpiter\n",
      "Cantidad de satélites = 79\n",
      "Masa del planeta = 1.899e+27\n",
      "Volúmen del planeta = 1431300000000000.0\n",
      "Diámetro del planeta = 139820\n",
      "Distancia al sol = 750000000\n",
      "Tipo de planeta = GASEOSO\n",
      "Es observable = True\n",
      "Densidad del planeta = 1326765877174.5964\n",
      "Es planeta exterior = True\n"
     ]
    }
   ],
   "source": [
    "class Planeta:\n",
    "    class TipoPlaneta:\n",
    "        GASEOSO = \"GASEOSO\"\n",
    "        TERRESTRE = \"TERRESTRE\"\n",
    "        ENANO = \"ENANO\"\n",
    "\n",
    "    def __init__(self, nombre = None, cantidad_satelites = 0, masa = 0.0, volúmen = 0.0, diámetro = 0, distancia_sol = 0, tipo = None, es_observable = False):\n",
    "        self.nombre = nombre\n",
    "        self.cantidad_satelites = cantidad_satelites\n",
    "        self.masa = masa\n",
    "        self.volúmen = volúmen\n",
    "        self.diámetro = diámetro\n",
    "        self.distancia_sol = distancia_sol\n",
    "        self.tipo = tipo\n",
    "        self.es_observable = es_observable\n",
    "\n",
    "    def imprimir(self):\n",
    "        print(\"Nombre del planeta =\", self.nombre)\n",
    "        print(\"Cantidad de satélites =\", str(self.cantidad_satelites))\n",
    "        print(\"Masa del planeta =\", str(self.masa))\n",
    "        print(\"Volúmen del planeta =\", str(self.volúmen))\n",
    "        print(\"Diámetro del planeta =\", str(self.diámetro))\n",
    "        print(\"Distancia al sol =\", str(self.distancia_sol))\n",
    "        print(\"Tipo de planeta =\", self.tipo)\n",
    "        print(\"Es observable =\", self.es_observable)\n",
    "\n",
    "    def calcular_densidad(self):\n",
    "        if self.volúmen != 0:\n",
    "            return self.masa / self.volúmen\n",
    "        else:\n",
    "            return 0\n",
    "\n",
    "    def es_planeta_exterior(self):\n",
    "        limite = 149597870 * 3.4\n",
    "        if self.distancia_sol > limite:\n",
    "            return True\n",
    "        else:\n",
    "            return False\n",
    "\n",
    "if __name__ == \"__main__\":\n",
    "    p1 = Planeta(nombre=\"Tierra\", cantidad_satelites=1, masa=5.9736e24, volúmen=1.08321e12, diámetro=12742, distancia_sol=150000000, tipo=Planeta.TipoPlaneta.TERRESTRE, es_observable=True)\n",
    "    p1.imprimir()\n",
    "    print(\"Densidad del planeta =\", str(p1.calcular_densidad()))\n",
    "    print(\"Es planeta exterior =\", p1.es_planeta_exterior())\n",
    "    print()\n",
    "\n",
    "    p2 = Planeta(nombre=\"Júpiter\", cantidad_satelites=79, masa=1.899e27, volúmen=1.4313e15, diámetro=139820, distancia_sol=750000000, tipo=Planeta.TipoPlaneta.GASEOSO, es_observable=True)\n",
    "    p2.imprimir()\n",
    "    print(\"Densidad del planeta =\", str(p2.calcular_densidad()))\n",
    "    print(\"Es planeta exterior =\", p2.es_planeta_exterior())"
   ]
  },
  {
   "cell_type": "markdown",
   "id": "dc117b0b",
   "metadata": {},
   "source": [
    "### Diagrama de clases:\n",
    "![Mi imagen](../Diagramas//diagrama2.png)"
   ]
  }
 ],
 "metadata": {
  "kernelspec": {
   "display_name": "Python 3",
   "language": "python",
   "name": "python3"
  },
  "language_info": {
   "codemirror_mode": {
    "name": "ipython",
    "version": 3
   },
   "file_extension": ".py",
   "mimetype": "text/x-python",
   "name": "python",
   "nbconvert_exporter": "python",
   "pygments_lexer": "ipython3",
   "version": "3.12.10"
  }
 },
 "nbformat": 4,
 "nbformat_minor": 5
}

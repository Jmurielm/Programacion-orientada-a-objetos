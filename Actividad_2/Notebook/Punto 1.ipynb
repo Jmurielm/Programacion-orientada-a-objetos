{
 "cells": [
  {
   "cell_type": "markdown",
   "id": "7f0668d6",
   "metadata": {},
   "source": [
    "### Punto 1: Ejercicio 2.1 página 63 "
   ]
  },
  {
   "cell_type": "code",
   "execution_count": 2,
   "id": "5a3108a1",
   "metadata": {},
   "outputs": [
    {
     "name": "stdout",
     "output_type": "stream",
     "text": [
      "Nombre = Pedro\n",
      "Apellidos = Pérez\n",
      "Número de documento de identidad = 1053121010\n",
      "Año de nacimiento = 1998\n",
      "\n",
      "Nombre = Luis\n",
      "Apellidos = León\n",
      "Número de documento de identidad = 1053223344\n",
      "Año de nacimiento = 2001\n",
      "\n"
     ]
    }
   ],
   "source": [
    "class Persona:\n",
    "    def __init__(self, nombre, apellidos, número_documento_identidad, año_nacimiento):\n",
    "        self.nombre = nombre\n",
    "        self.apellidos = apellidos\n",
    "        self.número_documento_identidad = número_documento_identidad\n",
    "        self.año_nacimiento = año_nacimiento\n",
    "\n",
    "    def imprimir(self):\n",
    "        print(\"Nombre =\", self.nombre)\n",
    "        print(\"Apellidos =\", self.apellidos)\n",
    "        print(\"Número de documento de identidad =\", self.número_documento_identidad)\n",
    "        print(\"Año de nacimiento =\", str(self.año_nacimiento))\n",
    "        print()\n",
    "\n",
    "if __name__ == \"__main__\":\n",
    "    p1 = Persona(\"Pedro\", \"Pérez\", \"1053121010\", 1998)\n",
    "    p2 = Persona(\"Luis\", \"León\", \"1053223344\", 2001)\n",
    "    p1.imprimir()\n",
    "    p2.imprimir()"
   ]
  },
  {
   "cell_type": "markdown",
   "id": "dfa1e3ca",
   "metadata": {},
   "source": [
    "### Diagrama de clases 1:\n",
    "![Mi imagen](../Diagramas//diagrama1.png)"
   ]
  }
 ],
 "metadata": {
  "kernelspec": {
   "display_name": "Python 3",
   "language": "python",
   "name": "python3"
  },
  "language_info": {
   "codemirror_mode": {
    "name": "ipython",
    "version": 3
   },
   "file_extension": ".py",
   "mimetype": "text/x-python",
   "name": "python",
   "nbconvert_exporter": "python",
   "pygments_lexer": "ipython3",
   "version": "3.12.10"
  }
 },
 "nbformat": 4,
 "nbformat_minor": 5
}
